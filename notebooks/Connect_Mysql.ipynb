{
 "cells": [
  {
   "cell_type": "markdown",
   "id": "7412ba2c",
   "metadata": {},
   "source": [
    "## Connecting Data to Mysql"
   ]
  },
  {
   "cell_type": "code",
   "execution_count": 42,
   "id": "5b06bf40",
   "metadata": {},
   "outputs": [],
   "source": [
    "from pandas_datareader import data as pdr\n",
    "\n",
    "import yfinance as yf\n",
    "yf.pdr_override() "
   ]
  },
  {
   "cell_type": "code",
   "execution_count": 2,
   "id": "771826e1",
   "metadata": {},
   "outputs": [],
   "source": [
    "import pandas as pd\n",
    "import numpy as np\n",
    "from statsmodels.tsa.seasonal import seasonal_decompose\n",
    "from sklearn.metrics import mean_squared_error as mse\n",
    "import numpy as np \n",
    "from statsmodels.tsa.api import ExponentialSmoothing\n",
    "from statsmodels.tsa.api import SimpleExpSmoothing, Holt\n",
    "import matplotlib.pyplot as plt"
   ]
  },
  {
   "cell_type": "code",
   "execution_count": 18,
   "id": "ad5e0e47",
   "metadata": {},
   "outputs": [],
   "source": [
    "def stock_df(tickers, start_dt, end_dt):\n",
    "    start_date = pd.to_datetime(start_dt)\n",
    "    end_date = pd.to_datetime(end_dt)\n",
    "    \n",
    "    period_limit = pd.DateOffset(months=1)\n",
    "    stock_data = pd.DataFrame()\n",
    "    \n",
    "    while start_date <= end_date:\n",
    "        # Calculate the end date for this period\n",
    "        period_end = min(start_date + period_limit, end_date)\n",
    "\n",
    "        # Download stock data for this period\n",
    "        data = yf.download(tickers, start=start_date, end=period_end)\n",
    "\n",
    "        # Concatenate the data with the existing DataFrame\n",
    "        stock_data = pd.concat([stock_data, data])\n",
    "\n",
    "        # Move to the next period\n",
    "        start_date = period_end + pd.Timedelta(days=1)\n",
    "    \n",
    "    return stock_data"
   ]
  },
  {
   "cell_type": "code",
   "execution_count": 19,
   "id": "174a83a3",
   "metadata": {},
   "outputs": [
    {
     "name": "stderr",
     "output_type": "stream",
     "text": [
      "[*********************100%%**********************]  1 of 1 completed\n",
      "[*********************100%%**********************]  1 of 1 completed\n",
      "[*********************100%%**********************]  1 of 1 completed\n",
      "[*********************100%%**********************]  1 of 1 completed\n",
      "[*********************100%%**********************]  1 of 1 completed\n",
      "[*********************100%%**********************]  1 of 1 completed\n",
      "[*********************100%%**********************]  1 of 1 completed\n",
      "[*********************100%%**********************]  1 of 1 completed\n",
      "[*********************100%%**********************]  1 of 1 completed\n",
      "[*********************100%%**********************]  1 of 1 completed\n",
      "[*********************100%%**********************]  1 of 1 completed\n",
      "[*********************100%%**********************]  1 of 1 completed\n",
      "[*********************100%%**********************]  1 of 1 completed\n",
      "[*********************100%%**********************]  1 of 1 completed\n",
      "[*********************100%%**********************]  1 of 1 completed\n",
      "[*********************100%%**********************]  1 of 1 completed\n",
      "[*********************100%%**********************]  1 of 1 completed\n",
      "[*********************100%%**********************]  1 of 1 completed\n",
      "[*********************100%%**********************]  1 of 1 completed\n",
      "[*********************100%%**********************]  1 of 1 completed\n",
      "[*********************100%%**********************]  1 of 1 completed\n",
      "[*********************100%%**********************]  1 of 1 completed\n",
      "[*********************100%%**********************]  1 of 1 completed\n",
      "[*********************100%%**********************]  1 of 1 completed\n",
      "[*********************100%%**********************]  1 of 1 completed\n",
      "[*********************100%%**********************]  1 of 1 completed\n",
      "[*********************100%%**********************]  1 of 1 completed\n",
      "[*********************100%%**********************]  1 of 1 completed\n",
      "[*********************100%%**********************]  1 of 1 completed\n",
      "[*********************100%%**********************]  1 of 1 completed\n",
      "[*********************100%%**********************]  1 of 1 completed\n",
      "[*********************100%%**********************]  1 of 1 completed\n",
      "[*********************100%%**********************]  1 of 1 completed\n",
      "[*********************100%%**********************]  1 of 1 completed\n",
      "[*********************100%%**********************]  1 of 1 completed\n",
      "[*********************100%%**********************]  1 of 1 completed\n",
      "[*********************100%%**********************]  1 of 1 completed\n",
      "[*********************100%%**********************]  1 of 1 completed\n",
      "[*********************100%%**********************]  1 of 1 completed\n",
      "[*********************100%%**********************]  1 of 1 completed\n",
      "[*********************100%%**********************]  1 of 1 completed\n",
      "[*********************100%%**********************]  1 of 1 completed\n",
      "[*********************100%%**********************]  1 of 1 completed\n",
      "[*********************100%%**********************]  1 of 1 completed\n",
      "[*********************100%%**********************]  1 of 1 completed\n",
      "[*********************100%%**********************]  1 of 1 completed\n",
      "[*********************100%%**********************]  1 of 1 completed\n",
      "[*********************100%%**********************]  1 of 1 completed\n"
     ]
    }
   ],
   "source": [
    "tcs_df=stock_df(\"TCS.NS\",\"2020-01-01\",\"2024-02-14\")"
   ]
  },
  {
   "cell_type": "code",
   "execution_count": 20,
   "id": "8b4c333b",
   "metadata": {},
   "outputs": [
    {
     "data": {
      "text/html": [
       "<div>\n",
       "<style scoped>\n",
       "    .dataframe tbody tr th:only-of-type {\n",
       "        vertical-align: middle;\n",
       "    }\n",
       "\n",
       "    .dataframe tbody tr th {\n",
       "        vertical-align: top;\n",
       "    }\n",
       "\n",
       "    .dataframe thead th {\n",
       "        text-align: right;\n",
       "    }\n",
       "</style>\n",
       "<table border=\"1\" class=\"dataframe\">\n",
       "  <thead>\n",
       "    <tr style=\"text-align: right;\">\n",
       "      <th></th>\n",
       "      <th>Open</th>\n",
       "      <th>High</th>\n",
       "      <th>Low</th>\n",
       "      <th>Close</th>\n",
       "      <th>Adj Close</th>\n",
       "      <th>Volume</th>\n",
       "    </tr>\n",
       "    <tr>\n",
       "      <th>Date</th>\n",
       "      <th></th>\n",
       "      <th></th>\n",
       "      <th></th>\n",
       "      <th></th>\n",
       "      <th></th>\n",
       "      <th></th>\n",
       "    </tr>\n",
       "  </thead>\n",
       "  <tbody>\n",
       "    <tr>\n",
       "      <th>2020-01-01</th>\n",
       "      <td>2168.000000</td>\n",
       "      <td>2183.899902</td>\n",
       "      <td>2154.000000</td>\n",
       "      <td>2167.600098</td>\n",
       "      <td>1999.318604</td>\n",
       "      <td>1354908</td>\n",
       "    </tr>\n",
       "    <tr>\n",
       "      <th>2020-01-02</th>\n",
       "      <td>2179.949951</td>\n",
       "      <td>2179.949951</td>\n",
       "      <td>2149.199951</td>\n",
       "      <td>2157.649902</td>\n",
       "      <td>1990.141235</td>\n",
       "      <td>2380752</td>\n",
       "    </tr>\n",
       "    <tr>\n",
       "      <th>2020-01-03</th>\n",
       "      <td>2164.000000</td>\n",
       "      <td>2223.000000</td>\n",
       "      <td>2164.000000</td>\n",
       "      <td>2200.649902</td>\n",
       "      <td>2029.802612</td>\n",
       "      <td>4655761</td>\n",
       "    </tr>\n",
       "    <tr>\n",
       "      <th>2020-01-06</th>\n",
       "      <td>2205.000000</td>\n",
       "      <td>2225.949951</td>\n",
       "      <td>2187.899902</td>\n",
       "      <td>2200.449951</td>\n",
       "      <td>2029.619141</td>\n",
       "      <td>3023209</td>\n",
       "    </tr>\n",
       "    <tr>\n",
       "      <th>2020-01-07</th>\n",
       "      <td>2200.500000</td>\n",
       "      <td>2214.649902</td>\n",
       "      <td>2183.800049</td>\n",
       "      <td>2205.850098</td>\n",
       "      <td>2034.599609</td>\n",
       "      <td>2429317</td>\n",
       "    </tr>\n",
       "  </tbody>\n",
       "</table>\n",
       "</div>"
      ],
      "text/plain": [
       "                   Open         High          Low        Close    Adj Close  \\\n",
       "Date                                                                          \n",
       "2020-01-01  2168.000000  2183.899902  2154.000000  2167.600098  1999.318604   \n",
       "2020-01-02  2179.949951  2179.949951  2149.199951  2157.649902  1990.141235   \n",
       "2020-01-03  2164.000000  2223.000000  2164.000000  2200.649902  2029.802612   \n",
       "2020-01-06  2205.000000  2225.949951  2187.899902  2200.449951  2029.619141   \n",
       "2020-01-07  2200.500000  2214.649902  2183.800049  2205.850098  2034.599609   \n",
       "\n",
       "             Volume  \n",
       "Date                 \n",
       "2020-01-01  1354908  \n",
       "2020-01-02  2380752  \n",
       "2020-01-03  4655761  \n",
       "2020-01-06  3023209  \n",
       "2020-01-07  2429317  "
      ]
     },
     "execution_count": 20,
     "metadata": {},
     "output_type": "execute_result"
    }
   ],
   "source": [
    "tcs_df.head()"
   ]
  },
  {
   "cell_type": "markdown",
   "id": "86e5767c",
   "metadata": {},
   "source": [
    "## Data Storage:\n",
    "\n",
    "#### Using MySql database to store data \n"
   ]
  },
  {
   "cell_type": "code",
   "execution_count": 21,
   "id": "8ff0d99f",
   "metadata": {},
   "outputs": [
    {
     "name": "stdout",
     "output_type": "stream",
     "text": [
      "DataFrame exported to MySQL successfully.\n"
     ]
    }
   ],
   "source": [
    "import pandas as pd\n",
    "from sqlalchemy import create_engine\n",
    "\n",
    "# Define the MySQL database connection parameters\n",
    "username = 'root'\n",
    "password = '0808'\n",
    "host = 'localhost'  # or '127.0.0.1' if MySQL is running locally\n",
    "port = '3306'  # MySQL default port\n",
    "database = 'stock_database'\n",
    "\n",
    "# Create a connection string\n",
    "connection_string = f'mysql+mysqlconnector://{username}:{password}@{host}:{port}/{database}'\n",
    "\n",
    "# Create a SQLAlchemy engine\n",
    "engine = create_engine(connection_string)\n",
    "\n",
    "# Export DataFrame to MySQL\n",
    "tcs_df.to_sql('stock_table', engine, index=False, if_exists='replace')\n",
    "\n",
    "print(\"DataFrame exported to MySQL successfully.\")\n"
   ]
  },
  {
   "cell_type": "code",
   "execution_count": 22,
   "id": "a23bdb46",
   "metadata": {},
   "outputs": [
    {
     "name": "stdout",
     "output_type": "stream",
     "text": [
      "          Open         High          Low        Close    Adj Close   Volume\n",
      "0  2168.000000  2183.899902  2154.000000  2167.600098  1999.318604  1354908\n",
      "1  2179.949951  2179.949951  2149.199951  2157.649902  1990.141235  2380752\n",
      "2  2164.000000  2223.000000  2164.000000  2200.649902  2029.802612  4655761\n",
      "3  2205.000000  2225.949951  2187.899902  2200.449951  2029.619141  3023209\n",
      "4  2200.500000  2214.649902  2183.800049  2205.850098  2034.599609  2429317\n"
     ]
    }
   ],
   "source": [
    "# SQL query to retrieve data from MySQL table into a DataFrame\n",
    "query = \"SELECT * FROM stock_table\"\n",
    "\n",
    "# Execute the query and load the results into a DataFrame\n",
    "df_from_mysql = pd.read_sql(query, engine)\n",
    "\n",
    "print(df_from_mysql.head())\n"
   ]
  },
  {
   "cell_type": "markdown",
   "id": "554f6c99",
   "metadata": {},
   "source": [
    "## Partition data "
   ]
  },
  {
   "cell_type": "code",
   "execution_count": 29,
   "id": "9c58e264",
   "metadata": {},
   "outputs": [
    {
     "name": "stdout",
     "output_type": "stream",
     "text": [
      "Requirement already satisfied: pandas in c:\\users\\rites\\anaconda3\\lib\\site-packages (1.5.3)\n",
      "Collecting pyarrow\n",
      "  Downloading pyarrow-15.0.0-cp310-cp310-win_amd64.whl (24.8 MB)\n",
      "     ---------------------------------------- 24.8/24.8 MB 1.6 MB/s eta 0:00:00\n",
      "Requirement already satisfied: pytz>=2020.1 in c:\\users\\rites\\anaconda3\\lib\\site-packages (from pandas) (2022.7)\n",
      "Requirement already satisfied: numpy>=1.21.0 in c:\\users\\rites\\anaconda3\\lib\\site-packages (from pandas) (1.23.5)\n",
      "Requirement already satisfied: python-dateutil>=2.8.1 in c:\\users\\rites\\anaconda3\\lib\\site-packages (from pandas) (2.8.2)\n",
      "Requirement already satisfied: six>=1.5 in c:\\users\\rites\\anaconda3\\lib\\site-packages (from python-dateutil>=2.8.1->pandas) (1.16.0)\n",
      "Installing collected packages: pyarrow\n",
      "Successfully installed pyarrow-15.0.0\n",
      "Note: you may need to restart the kernel to use updated packages.\n"
     ]
    }
   ],
   "source": [
    "pip install pandas pyarrow"
   ]
  },
  {
   "cell_type": "code",
   "execution_count": 30,
   "id": "3087d57e",
   "metadata": {},
   "outputs": [],
   "source": [
    "def partition_stock_data(stock_data):\n",
    "    stock_data['Year'] = stock_data.index.year\n",
    "    stock_data['Month'] = stock_data.index.month\n",
    "    return stock_data"
   ]
  },
  {
   "cell_type": "code",
   "execution_count": 31,
   "id": "0d7fb292",
   "metadata": {},
   "outputs": [],
   "source": [
    "def save_to_parquet(data, filename):\n",
    "    data.to_parquet(filename, engine='pyarrow')"
   ]
  },
  {
   "cell_type": "code",
   "execution_count": 32,
   "id": "93942a17",
   "metadata": {},
   "outputs": [],
   "source": [
    "# Partition stock data by year and month\n",
    "partitioned_data = partition_stock_data(tcs_df)"
   ]
  },
  {
   "cell_type": "code",
   "execution_count": 36,
   "id": "23848071",
   "metadata": {},
   "outputs": [],
   "source": [
    "tcs_df_parquet = 'partitioned_stock_data.parquet'"
   ]
  },
  {
   "cell_type": "code",
   "execution_count": 37,
   "id": "0f0992e8",
   "metadata": {
    "scrolled": true
   },
   "outputs": [],
   "source": [
    " # Save partitioned data to Parquet format\n",
    "save_to_parquet(partitioned_data, tcs_df_parquet)"
   ]
  },
  {
   "cell_type": "code",
   "execution_count": 38,
   "id": "6dc9e7a6",
   "metadata": {},
   "outputs": [],
   "source": [
    "# Load partitioned data from Parquet format\n",
    "def load_partitioned_data(filename):\n",
    "    return pd.read_parquet(filename)"
   ]
  },
  {
   "cell_type": "code",
   "execution_count": 39,
   "id": "40bbcce4",
   "metadata": {},
   "outputs": [
    {
     "name": "stdout",
     "output_type": "stream",
     "text": [
      "                   Open         High          Low        Close    Adj Close  \\\n",
      "Date                                                                          \n",
      "2020-01-01  2168.000000  2183.899902  2154.000000  2167.600098  1999.318604   \n",
      "2020-01-02  2179.949951  2179.949951  2149.199951  2157.649902  1990.141235   \n",
      "2020-01-03  2164.000000  2223.000000  2164.000000  2200.649902  2029.802612   \n",
      "2020-01-06  2205.000000  2225.949951  2187.899902  2200.449951  2029.619141   \n",
      "2020-01-07  2200.500000  2214.649902  2183.800049  2205.850098  2034.599609   \n",
      "\n",
      "             Volume  Year  Month  \n",
      "Date                              \n",
      "2020-01-01  1354908  2020      1  \n",
      "2020-01-02  2380752  2020      1  \n",
      "2020-01-03  4655761  2020      1  \n",
      "2020-01-06  3023209  2020      1  \n",
      "2020-01-07  2429317  2020      1  \n"
     ]
    }
   ],
   "source": [
    "input_filename = 'partitioned_stock_data.parquet'\n",
    "    \n",
    "# Load partitioned data from Parquet format\n",
    "partitioned_data = load_partitioned_data(input_filename)\n",
    "    \n",
    "# Display the loaded data\n",
    "print(partitioned_data.head())"
   ]
  },
  {
   "cell_type": "code",
   "execution_count": null,
   "id": "c67b7f62",
   "metadata": {},
   "outputs": [],
   "source": []
  }
 ],
 "metadata": {
  "kernelspec": {
   "display_name": "Python 3 (ipykernel)",
   "language": "python",
   "name": "python3"
  },
  "language_info": {
   "codemirror_mode": {
    "name": "ipython",
    "version": 3
   },
   "file_extension": ".py",
   "mimetype": "text/x-python",
   "name": "python",
   "nbconvert_exporter": "python",
   "pygments_lexer": "ipython3",
   "version": "3.10.9"
  }
 },
 "nbformat": 4,
 "nbformat_minor": 5
}
